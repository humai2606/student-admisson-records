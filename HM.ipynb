{
  "metadata": {
    "kernelspec": {
      "name": "python",
      "display_name": "Python (Pyodide)",
      "language": "python"
    },
    "language_info": {
      "codemirror_mode": {
        "name": "python",
        "version": 3
      },
      "file_extension": ".py",
      "mimetype": "text/x-python",
      "name": "python",
      "nbconvert_exporter": "python",
      "pygments_lexer": "ipython3",
      "version": "3.8"
    }
  },
  "nbformat_minor": 5,
  "nbformat": 4,
  "cells": [
    {
      "id": "330a72d9-b0a4-4734-9fbf-25c84f3bf12c",
      "cell_type": "code",
      "source": "import pandas as pd\ndata=pd.read_csv(\"student admisson record.csv\")\ndata.head(15)",
      "metadata": {
        "trusted": true
      },
      "outputs": [
        {
          "execution_count": 5,
          "output_type": "execute_result",
          "data": {
            "text/plain": "       Name   Age  Gender  Admission Test Score  High School Percentage  \\\n0   Shehroz  24.0  Female                  50.0                   68.90   \n1     Waqar  21.0  Female                  99.0                   60.73   \n2    Bushra  17.0    Male                  89.0                     NaN   \n3     Aliya  17.0    Male                  55.0                   85.29   \n4     Bilal  20.0    Male                  65.0                   61.13   \n5   Murtaza  23.0  Female                   NaN                     NaN   \n6      Asad  18.0    Male                   NaN                   97.31   \n7     Rabia  20.0  Female                  82.0                   55.67   \n8    Rohail  17.0    Male                  64.0                     NaN   \n9    Kamran  18.0    Male                  53.0                   98.98   \n10   Shafiq  17.0    Male                  78.0                  -10.00   \n11   Nashit  18.0    Male                  89.0                     NaN   \n12      NaN  19.0    Male                  66.0                   88.17   \n13    Ahmed  21.0    Male                  62.0                   79.03   \n14  Fareeha  22.0    Male                  86.0                   50.77   \n\n         City Admission Status  \n0      Quetta         Rejected  \n1     Karachi              NaN  \n2   Islamabad         Accepted  \n3     Karachi         Rejected  \n4      Lahore              NaN  \n5   Islamabad         Accepted  \n6      Multan         Accepted  \n7      Lahore         Accepted  \n8     Karachi         Accepted  \n9      Multan         Rejected  \n10     Quetta         Rejected  \n11     Lahore         Accepted  \n12        NaN              NaN  \n13    Karachi         Accepted  \n14  Islamabad         Rejected  ",
            "text/html": "<div>\n<style scoped>\n    .dataframe tbody tr th:only-of-type {\n        vertical-align: middle;\n    }\n\n    .dataframe tbody tr th {\n        vertical-align: top;\n    }\n\n    .dataframe thead th {\n        text-align: right;\n    }\n</style>\n<table border=\"1\" class=\"dataframe\">\n  <thead>\n    <tr style=\"text-align: right;\">\n      <th></th>\n      <th>Name</th>\n      <th>Age</th>\n      <th>Gender</th>\n      <th>Admission Test Score</th>\n      <th>High School Percentage</th>\n      <th>City</th>\n      <th>Admission Status</th>\n    </tr>\n  </thead>\n  <tbody>\n    <tr>\n      <th>0</th>\n      <td>Shehroz</td>\n      <td>24.0</td>\n      <td>Female</td>\n      <td>50.0</td>\n      <td>68.90</td>\n      <td>Quetta</td>\n      <td>Rejected</td>\n    </tr>\n    <tr>\n      <th>1</th>\n      <td>Waqar</td>\n      <td>21.0</td>\n      <td>Female</td>\n      <td>99.0</td>\n      <td>60.73</td>\n      <td>Karachi</td>\n      <td>NaN</td>\n    </tr>\n    <tr>\n      <th>2</th>\n      <td>Bushra</td>\n      <td>17.0</td>\n      <td>Male</td>\n      <td>89.0</td>\n      <td>NaN</td>\n      <td>Islamabad</td>\n      <td>Accepted</td>\n    </tr>\n    <tr>\n      <th>3</th>\n      <td>Aliya</td>\n      <td>17.0</td>\n      <td>Male</td>\n      <td>55.0</td>\n      <td>85.29</td>\n      <td>Karachi</td>\n      <td>Rejected</td>\n    </tr>\n    <tr>\n      <th>4</th>\n      <td>Bilal</td>\n      <td>20.0</td>\n      <td>Male</td>\n      <td>65.0</td>\n      <td>61.13</td>\n      <td>Lahore</td>\n      <td>NaN</td>\n    </tr>\n    <tr>\n      <th>5</th>\n      <td>Murtaza</td>\n      <td>23.0</td>\n      <td>Female</td>\n      <td>NaN</td>\n      <td>NaN</td>\n      <td>Islamabad</td>\n      <td>Accepted</td>\n    </tr>\n    <tr>\n      <th>6</th>\n      <td>Asad</td>\n      <td>18.0</td>\n      <td>Male</td>\n      <td>NaN</td>\n      <td>97.31</td>\n      <td>Multan</td>\n      <td>Accepted</td>\n    </tr>\n    <tr>\n      <th>7</th>\n      <td>Rabia</td>\n      <td>20.0</td>\n      <td>Female</td>\n      <td>82.0</td>\n      <td>55.67</td>\n      <td>Lahore</td>\n      <td>Accepted</td>\n    </tr>\n    <tr>\n      <th>8</th>\n      <td>Rohail</td>\n      <td>17.0</td>\n      <td>Male</td>\n      <td>64.0</td>\n      <td>NaN</td>\n      <td>Karachi</td>\n      <td>Accepted</td>\n    </tr>\n    <tr>\n      <th>9</th>\n      <td>Kamran</td>\n      <td>18.0</td>\n      <td>Male</td>\n      <td>53.0</td>\n      <td>98.98</td>\n      <td>Multan</td>\n      <td>Rejected</td>\n    </tr>\n    <tr>\n      <th>10</th>\n      <td>Shafiq</td>\n      <td>17.0</td>\n      <td>Male</td>\n      <td>78.0</td>\n      <td>-10.00</td>\n      <td>Quetta</td>\n      <td>Rejected</td>\n    </tr>\n    <tr>\n      <th>11</th>\n      <td>Nashit</td>\n      <td>18.0</td>\n      <td>Male</td>\n      <td>89.0</td>\n      <td>NaN</td>\n      <td>Lahore</td>\n      <td>Accepted</td>\n    </tr>\n    <tr>\n      <th>12</th>\n      <td>NaN</td>\n      <td>19.0</td>\n      <td>Male</td>\n      <td>66.0</td>\n      <td>88.17</td>\n      <td>NaN</td>\n      <td>NaN</td>\n    </tr>\n    <tr>\n      <th>13</th>\n      <td>Ahmed</td>\n      <td>21.0</td>\n      <td>Male</td>\n      <td>62.0</td>\n      <td>79.03</td>\n      <td>Karachi</td>\n      <td>Accepted</td>\n    </tr>\n    <tr>\n      <th>14</th>\n      <td>Fareeha</td>\n      <td>22.0</td>\n      <td>Male</td>\n      <td>86.0</td>\n      <td>50.77</td>\n      <td>Islamabad</td>\n      <td>Rejected</td>\n    </tr>\n  </tbody>\n</table>\n</div>"
          },
          "metadata": {}
        }
      ],
      "execution_count": 5
    },
    {
      "id": "2fcceae9-4a4c-44c6-8d92-373cfe6cb19e",
      "cell_type": "code",
      "source": "data.info()\n",
      "metadata": {
        "trusted": true,
        "scrolled": true
      },
      "outputs": [
        {
          "name": "stdout",
          "output_type": "stream",
          "text": "<class 'pandas.core.frame.DataFrame'>\nRangeIndex: 157 entries, 0 to 156\nData columns (total 7 columns):\n #   Column                  Non-Null Count  Dtype  \n---  ------                  --------------  -----  \n 0   Name                    147 non-null    object \n 1   Age                     147 non-null    float64\n 2   Gender                  147 non-null    object \n 3   Admission Test Score    146 non-null    float64\n 4   High School Percentage  146 non-null    float64\n 5   City                    147 non-null    object \n 6   Admission Status        147 non-null    object \ndtypes: float64(3), object(4)\nmemory usage: 6.2+ KB\n"
        }
      ],
      "execution_count": 5
    },
    {
      "id": "610cf095-5fcc-4fdd-b47e-3a2ea43347f4",
      "cell_type": "code",
      "source": "data.describe()",
      "metadata": {
        "trusted": true
      },
      "outputs": [
        {
          "execution_count": 8,
          "output_type": "execute_result",
          "data": {
            "text/plain": "              Age  Admission Test Score  High School Percentage\ncount  147.000000            146.000000              146.000000\nmean    19.680272             77.657534               75.684726\nstd      4.540512             16.855343               17.368014\nmin     -1.000000             -5.000000              -10.000000\n25%     18.000000             68.250000               65.052500\n50%     20.000000             79.000000               77.545000\n75%     22.000000             89.000000               88.312500\nmax     24.000000            150.000000              110.500000",
            "text/html": "<div>\n<style scoped>\n    .dataframe tbody tr th:only-of-type {\n        vertical-align: middle;\n    }\n\n    .dataframe tbody tr th {\n        vertical-align: top;\n    }\n\n    .dataframe thead th {\n        text-align: right;\n    }\n</style>\n<table border=\"1\" class=\"dataframe\">\n  <thead>\n    <tr style=\"text-align: right;\">\n      <th></th>\n      <th>Age</th>\n      <th>Admission Test Score</th>\n      <th>High School Percentage</th>\n    </tr>\n  </thead>\n  <tbody>\n    <tr>\n      <th>count</th>\n      <td>147.000000</td>\n      <td>146.000000</td>\n      <td>146.000000</td>\n    </tr>\n    <tr>\n      <th>mean</th>\n      <td>19.680272</td>\n      <td>77.657534</td>\n      <td>75.684726</td>\n    </tr>\n    <tr>\n      <th>std</th>\n      <td>4.540512</td>\n      <td>16.855343</td>\n      <td>17.368014</td>\n    </tr>\n    <tr>\n      <th>min</th>\n      <td>-1.000000</td>\n      <td>-5.000000</td>\n      <td>-10.000000</td>\n    </tr>\n    <tr>\n      <th>25%</th>\n      <td>18.000000</td>\n      <td>68.250000</td>\n      <td>65.052500</td>\n    </tr>\n    <tr>\n      <th>50%</th>\n      <td>20.000000</td>\n      <td>79.000000</td>\n      <td>77.545000</td>\n    </tr>\n    <tr>\n      <th>75%</th>\n      <td>22.000000</td>\n      <td>89.000000</td>\n      <td>88.312500</td>\n    </tr>\n    <tr>\n      <th>max</th>\n      <td>24.000000</td>\n      <td>150.000000</td>\n      <td>110.500000</td>\n    </tr>\n  </tbody>\n</table>\n</div>"
          },
          "metadata": {}
        }
      ],
      "execution_count": 8
    },
    {
      "id": "3979d8c0-b6ab-4def-be2a-e51a35fad5be",
      "cell_type": "code",
      "source": "data.isnull()",
      "metadata": {
        "trusted": true
      },
      "outputs": [
        {
          "execution_count": 9,
          "output_type": "execute_result",
          "data": {
            "text/plain": "      Name    Age  Gender  Admission Test Score  High School Percentage  \\\n0    False  False   False                 False                   False   \n1    False  False   False                 False                   False   \n2    False  False   False                 False                    True   \n3    False  False   False                 False                   False   \n4    False  False   False                 False                   False   \n..     ...    ...     ...                   ...                     ...   \n152  False  False   False                 False                   False   \n153  False  False   False                 False                   False   \n154  False  False   False                 False                   False   \n155  False  False   False                 False                   False   \n156  False  False   False                 False                   False   \n\n      City  Admission Status  \n0    False             False  \n1    False              True  \n2    False             False  \n3    False             False  \n4    False              True  \n..     ...               ...  \n152  False             False  \n153  False             False  \n154  False             False  \n155  False             False  \n156  False             False  \n\n[157 rows x 7 columns]",
            "text/html": "<div>\n<style scoped>\n    .dataframe tbody tr th:only-of-type {\n        vertical-align: middle;\n    }\n\n    .dataframe tbody tr th {\n        vertical-align: top;\n    }\n\n    .dataframe thead th {\n        text-align: right;\n    }\n</style>\n<table border=\"1\" class=\"dataframe\">\n  <thead>\n    <tr style=\"text-align: right;\">\n      <th></th>\n      <th>Name</th>\n      <th>Age</th>\n      <th>Gender</th>\n      <th>Admission Test Score</th>\n      <th>High School Percentage</th>\n      <th>City</th>\n      <th>Admission Status</th>\n    </tr>\n  </thead>\n  <tbody>\n    <tr>\n      <th>0</th>\n      <td>False</td>\n      <td>False</td>\n      <td>False</td>\n      <td>False</td>\n      <td>False</td>\n      <td>False</td>\n      <td>False</td>\n    </tr>\n    <tr>\n      <th>1</th>\n      <td>False</td>\n      <td>False</td>\n      <td>False</td>\n      <td>False</td>\n      <td>False</td>\n      <td>False</td>\n      <td>True</td>\n    </tr>\n    <tr>\n      <th>2</th>\n      <td>False</td>\n      <td>False</td>\n      <td>False</td>\n      <td>False</td>\n      <td>True</td>\n      <td>False</td>\n      <td>False</td>\n    </tr>\n    <tr>\n      <th>3</th>\n      <td>False</td>\n      <td>False</td>\n      <td>False</td>\n      <td>False</td>\n      <td>False</td>\n      <td>False</td>\n      <td>False</td>\n    </tr>\n    <tr>\n      <th>4</th>\n      <td>False</td>\n      <td>False</td>\n      <td>False</td>\n      <td>False</td>\n      <td>False</td>\n      <td>False</td>\n      <td>True</td>\n    </tr>\n    <tr>\n      <th>...</th>\n      <td>...</td>\n      <td>...</td>\n      <td>...</td>\n      <td>...</td>\n      <td>...</td>\n      <td>...</td>\n      <td>...</td>\n    </tr>\n    <tr>\n      <th>152</th>\n      <td>False</td>\n      <td>False</td>\n      <td>False</td>\n      <td>False</td>\n      <td>False</td>\n      <td>False</td>\n      <td>False</td>\n    </tr>\n    <tr>\n      <th>153</th>\n      <td>False</td>\n      <td>False</td>\n      <td>False</td>\n      <td>False</td>\n      <td>False</td>\n      <td>False</td>\n      <td>False</td>\n    </tr>\n    <tr>\n      <th>154</th>\n      <td>False</td>\n      <td>False</td>\n      <td>False</td>\n      <td>False</td>\n      <td>False</td>\n      <td>False</td>\n      <td>False</td>\n    </tr>\n    <tr>\n      <th>155</th>\n      <td>False</td>\n      <td>False</td>\n      <td>False</td>\n      <td>False</td>\n      <td>False</td>\n      <td>False</td>\n      <td>False</td>\n    </tr>\n    <tr>\n      <th>156</th>\n      <td>False</td>\n      <td>False</td>\n      <td>False</td>\n      <td>False</td>\n      <td>False</td>\n      <td>False</td>\n      <td>False</td>\n    </tr>\n  </tbody>\n</table>\n<p>157 rows × 7 columns</p>\n</div>"
          },
          "metadata": {}
        }
      ],
      "execution_count": 9
    },
    {
      "id": "c8b801f5-691f-45f3-a035-7aedd32636bf",
      "cell_type": "code",
      "source": "data.shape",
      "metadata": {
        "trusted": true
      },
      "outputs": [
        {
          "execution_count": 11,
          "output_type": "execute_result",
          "data": {
            "text/plain": "(157, 7)"
          },
          "metadata": {}
        }
      ],
      "execution_count": 11
    },
    {
      "id": "5e865c74-774b-4b4a-81ac-60d3864f2b53",
      "cell_type": "code",
      "source": "data.mean(numeric_only=True)",
      "metadata": {
        "trusted": true
      },
      "outputs": [
        {
          "execution_count": 8,
          "output_type": "execute_result",
          "data": {
            "text/plain": "Age                       19.680272\nAdmission Test Score      77.657534\nHigh School Percentage    75.684726\ndtype: float64"
          },
          "metadata": {}
        }
      ],
      "execution_count": 8
    },
    {
      "id": "f9e232e0-02da-48b5-9c8b-eb4cc45fe260",
      "cell_type": "code",
      "source": "data.median(numeric_only=True)",
      "metadata": {
        "trusted": true
      },
      "outputs": [
        {
          "execution_count": 11,
          "output_type": "execute_result",
          "data": {
            "text/plain": "Age                       20.000\nAdmission Test Score      79.000\nHigh School Percentage    77.545\ndtype: float64"
          },
          "metadata": {}
        }
      ],
      "execution_count": 11
    },
    {
      "id": "828891cc-4450-434b-adb8-60a1c3e039dd",
      "cell_type": "code",
      "source": "data.mode().iloc[0]",
      "metadata": {
        "trusted": true
      },
      "outputs": [
        {
          "execution_count": 15,
          "output_type": "execute_result",
          "data": {
            "text/plain": "Name                       Shehroz\nAge                           17.0\nGender                      Female\nAdmission Test Score          89.0\nHigh School Percentage       54.59\nCity                        Quetta\nAdmission Status          Rejected\nName: 0, dtype: object"
          },
          "metadata": {}
        }
      ],
      "execution_count": 15
    }
  ]
}